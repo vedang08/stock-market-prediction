{
  "cells": [
    {
      "cell_type": "markdown",
      "metadata": {
        "id": "my9KVJVcCAEZ"
      },
      "source": [
        "# Stock Market Prediction using Multivariate Time Series Forecasting using LSTM\n",
        "\n",
        "**Author:** [Vedang Naik](https://www.linkedin.com/in/vedangnaik/)<br>\n",
        "**Date created:** 2021/07/17<br>\n",
        "**Last modified:** 2021/07/17<br>\n",
        "**Description:** Multivariate Time Series Forecasting on stock market data using LSTM."
      ]
    },
    {
      "cell_type": "markdown",
      "metadata": {
        "id": "CijrcLNNCAEb"
      },
      "source": [
        "Time-series forecasting involves using past values of an independent variable (x) to predict future values of a dependent variable (y). When the prediction model uses a single independent variable, it’s known as univariate forecasting. In contrast, multivariate forecasting involves predicting a dependent variable based on multiple independent variables.\n",
        "In the given example, a time series model is applied to Google’s stock market data. The model, which uses Long Short-Term Memory (LSTM), performs multivariate time series forecasting. It predicts the opening price of the stock based on five historical data points: the opening, closing, highest, lowest, and adjusted closing prices. The model takes an input shape defined by the window length and these five features.\n",
        "A univariable forecast model simplifies this process by focusing on a single factor, such as predicting the opening price of the stock based solely on the historical opening price. On the other hand, a multivariate stock market prediction model takes into account the interrelationships between multiple variables, providing a more comprehensive representation of reality. As a result, multivariate models often yield more accurate predictions than their univariate counterparts."
      ]
    },
    {
      "cell_type": "markdown",
      "metadata": {
        "id": "cNSWUXItCAEc"
      },
      "source": [
        "## Setup"
      ]
    },
    {
      "cell_type": "code",
      "execution_count": 1,
      "metadata": {
        "id": "u1pIWBJLCAEd"
      },
      "outputs": [],
      "source": [
        "import os\n",
        "\n",
        "os.environ[\"TF_CPP_MIN_LOG_LEVEL\"] = \"3\"\n",
        "import pandas as pd\n",
        "import matplotlib as mpl\n",
        "import matplotlib.pyplot as plt\n",
        "from sklearn.model_selection import train_test_split\n",
        "from tensorflow.keras.preprocessing.sequence import TimeseriesGenerator\n",
        "from sklearn.preprocessing import StandardScaler\n",
        "import tensorflow as tf"
      ]
    },
    {
      "cell_type": "markdown",
      "metadata": {
        "id": "9EjTMo73CAEe"
      },
      "source": [
        "## Load the Data"
      ]
    },
    {
      "cell_type": "markdown",
      "metadata": {
        "id": "aLATt_LMCAEe"
      },
      "source": [
        "This example uses Google's stock market dataset downloaded from [Yahoo\n",
        "Finance](https://in.finance.yahoo.com/quote/GOOG/history?period1=1092960000&period2=1594944000&interval=1d&filter=history&frequency=1d&includeAdjustedClose=true)\n",
        "\n",
        "\n",
        "**Time-Frame Considered:** 16 Years of data starting from 2004/08/19 to 2020/07/17.\n",
        "\n",
        "**Structure of Dataset**\n",
        "\n",
        "1. Date - specifies trading date\n",
        "2. Open - opening price\n",
        "3. High - maximum price during the day\n",
        "4. Low - minimum price during the day\n",
        "5. Close - close price adjusted for splits\n",
        "6. Adj Close - adjusted close price adjusted for both dividends and splits\n",
        "7. Volume - the number of shares that changed hands during a given day"
      ]
    },
    {
      "cell_type": "code",
      "execution_count": 2,
      "metadata": {
        "id": "NPb-_ccVCAEf"
      },
      "outputs": [],
      "source": [
        "df = pd.read_csv(\n",
        "    \"https://raw.githubusercontent.com/rohit-sahoo/Multivariate_\"\n",
        "    + \"Timeseries_Forecasting_using_LSTM/master/GOOG.csv\"\n",
        ")"
      ]
    },
    {
      "cell_type": "markdown",
      "metadata": {
        "id": "ayBlpya6CAEf"
      },
      "source": [
        "Quick look at the Google Stock Market Dataset."
      ]
    },
    {
      "cell_type": "code",
      "execution_count": 3,
      "metadata": {
        "colab": {
          "base_uri": "https://localhost:8080/",
          "height": 204
        },
        "id": "aPHW92_WCAEg",
        "outputId": "1ab2372f-d9d3-49fc-f363-9308839f35eb"
      },
      "outputs": [
        {
          "output_type": "execute_result",
          "data": {
            "text/plain": [
              "         Date       Open       High        Low      Close  Adj Close    Volume\n",
              "0  2004-08-19  49.813286  51.835709  47.800831  49.982655  49.982655  44871300\n",
              "1  2004-08-20  50.316402  54.336334  50.062355  53.952770  53.952770  22942800\n",
              "2  2004-08-23  55.168217  56.528118  54.321388  54.495735  54.495735  18342800\n",
              "3  2004-08-24  55.412300  55.591629  51.591621  52.239193  52.239193  15319700\n",
              "4  2004-08-25  52.284027  53.798351  51.746044  52.802086  52.802086   9232100"
            ],
            "text/html": [
              "\n",
              "  <div id=\"df-962a15cc-8daf-4b0d-a385-36904c87da33\" class=\"colab-df-container\">\n",
              "    <div>\n",
              "<style scoped>\n",
              "    .dataframe tbody tr th:only-of-type {\n",
              "        vertical-align: middle;\n",
              "    }\n",
              "\n",
              "    .dataframe tbody tr th {\n",
              "        vertical-align: top;\n",
              "    }\n",
              "\n",
              "    .dataframe thead th {\n",
              "        text-align: right;\n",
              "    }\n",
              "</style>\n",
              "<table border=\"1\" class=\"dataframe\">\n",
              "  <thead>\n",
              "    <tr style=\"text-align: right;\">\n",
              "      <th></th>\n",
              "      <th>Date</th>\n",
              "      <th>Open</th>\n",
              "      <th>High</th>\n",
              "      <th>Low</th>\n",
              "      <th>Close</th>\n",
              "      <th>Adj Close</th>\n",
              "      <th>Volume</th>\n",
              "    </tr>\n",
              "  </thead>\n",
              "  <tbody>\n",
              "    <tr>\n",
              "      <th>0</th>\n",
              "      <td>2004-08-19</td>\n",
              "      <td>49.813286</td>\n",
              "      <td>51.835709</td>\n",
              "      <td>47.800831</td>\n",
              "      <td>49.982655</td>\n",
              "      <td>49.982655</td>\n",
              "      <td>44871300</td>\n",
              "    </tr>\n",
              "    <tr>\n",
              "      <th>1</th>\n",
              "      <td>2004-08-20</td>\n",
              "      <td>50.316402</td>\n",
              "      <td>54.336334</td>\n",
              "      <td>50.062355</td>\n",
              "      <td>53.952770</td>\n",
              "      <td>53.952770</td>\n",
              "      <td>22942800</td>\n",
              "    </tr>\n",
              "    <tr>\n",
              "      <th>2</th>\n",
              "      <td>2004-08-23</td>\n",
              "      <td>55.168217</td>\n",
              "      <td>56.528118</td>\n",
              "      <td>54.321388</td>\n",
              "      <td>54.495735</td>\n",
              "      <td>54.495735</td>\n",
              "      <td>18342800</td>\n",
              "    </tr>\n",
              "    <tr>\n",
              "      <th>3</th>\n",
              "      <td>2004-08-24</td>\n",
              "      <td>55.412300</td>\n",
              "      <td>55.591629</td>\n",
              "      <td>51.591621</td>\n",
              "      <td>52.239193</td>\n",
              "      <td>52.239193</td>\n",
              "      <td>15319700</td>\n",
              "    </tr>\n",
              "    <tr>\n",
              "      <th>4</th>\n",
              "      <td>2004-08-25</td>\n",
              "      <td>52.284027</td>\n",
              "      <td>53.798351</td>\n",
              "      <td>51.746044</td>\n",
              "      <td>52.802086</td>\n",
              "      <td>52.802086</td>\n",
              "      <td>9232100</td>\n",
              "    </tr>\n",
              "  </tbody>\n",
              "</table>\n",
              "</div>\n",
              "    <div class=\"colab-df-buttons\">\n",
              "\n",
              "  <div class=\"colab-df-container\">\n",
              "    <button class=\"colab-df-convert\" onclick=\"convertToInteractive('df-962a15cc-8daf-4b0d-a385-36904c87da33')\"\n",
              "            title=\"Convert this dataframe to an interactive table.\"\n",
              "            style=\"display:none;\">\n",
              "\n",
              "  <svg xmlns=\"http://www.w3.org/2000/svg\" height=\"24px\" viewBox=\"0 -960 960 960\">\n",
              "    <path d=\"M120-120v-720h720v720H120Zm60-500h600v-160H180v160Zm220 220h160v-160H400v160Zm0 220h160v-160H400v160ZM180-400h160v-160H180v160Zm440 0h160v-160H620v160ZM180-180h160v-160H180v160Zm440 0h160v-160H620v160Z\"/>\n",
              "  </svg>\n",
              "    </button>\n",
              "\n",
              "  <style>\n",
              "    .colab-df-container {\n",
              "      display:flex;\n",
              "      gap: 12px;\n",
              "    }\n",
              "\n",
              "    .colab-df-convert {\n",
              "      background-color: #E8F0FE;\n",
              "      border: none;\n",
              "      border-radius: 50%;\n",
              "      cursor: pointer;\n",
              "      display: none;\n",
              "      fill: #1967D2;\n",
              "      height: 32px;\n",
              "      padding: 0 0 0 0;\n",
              "      width: 32px;\n",
              "    }\n",
              "\n",
              "    .colab-df-convert:hover {\n",
              "      background-color: #E2EBFA;\n",
              "      box-shadow: 0px 1px 2px rgba(60, 64, 67, 0.3), 0px 1px 3px 1px rgba(60, 64, 67, 0.15);\n",
              "      fill: #174EA6;\n",
              "    }\n",
              "\n",
              "    .colab-df-buttons div {\n",
              "      margin-bottom: 4px;\n",
              "    }\n",
              "\n",
              "    [theme=dark] .colab-df-convert {\n",
              "      background-color: #3B4455;\n",
              "      fill: #D2E3FC;\n",
              "    }\n",
              "\n",
              "    [theme=dark] .colab-df-convert:hover {\n",
              "      background-color: #434B5C;\n",
              "      box-shadow: 0px 1px 3px 1px rgba(0, 0, 0, 0.15);\n",
              "      filter: drop-shadow(0px 1px 2px rgba(0, 0, 0, 0.3));\n",
              "      fill: #FFFFFF;\n",
              "    }\n",
              "  </style>\n",
              "\n",
              "    <script>\n",
              "      const buttonEl =\n",
              "        document.querySelector('#df-962a15cc-8daf-4b0d-a385-36904c87da33 button.colab-df-convert');\n",
              "      buttonEl.style.display =\n",
              "        google.colab.kernel.accessAllowed ? 'block' : 'none';\n",
              "\n",
              "      async function convertToInteractive(key) {\n",
              "        const element = document.querySelector('#df-962a15cc-8daf-4b0d-a385-36904c87da33');\n",
              "        const dataTable =\n",
              "          await google.colab.kernel.invokeFunction('convertToInteractive',\n",
              "                                                    [key], {});\n",
              "        if (!dataTable) return;\n",
              "\n",
              "        const docLinkHtml = 'Like what you see? Visit the ' +\n",
              "          '<a target=\"_blank\" href=https://colab.research.google.com/notebooks/data_table.ipynb>data table notebook</a>'\n",
              "          + ' to learn more about interactive tables.';\n",
              "        element.innerHTML = '';\n",
              "        dataTable['output_type'] = 'display_data';\n",
              "        await google.colab.output.renderOutput(dataTable, element);\n",
              "        const docLink = document.createElement('div');\n",
              "        docLink.innerHTML = docLinkHtml;\n",
              "        element.appendChild(docLink);\n",
              "      }\n",
              "    </script>\n",
              "  </div>\n",
              "\n",
              "\n",
              "<div id=\"df-6af602f1-84e0-43e5-92fc-a7a721c75693\">\n",
              "  <button class=\"colab-df-quickchart\" onclick=\"quickchart('df-6af602f1-84e0-43e5-92fc-a7a721c75693')\"\n",
              "            title=\"Suggest charts\"\n",
              "            style=\"display:none;\">\n",
              "\n",
              "<svg xmlns=\"http://www.w3.org/2000/svg\" height=\"24px\"viewBox=\"0 0 24 24\"\n",
              "     width=\"24px\">\n",
              "    <g>\n",
              "        <path d=\"M19 3H5c-1.1 0-2 .9-2 2v14c0 1.1.9 2 2 2h14c1.1 0 2-.9 2-2V5c0-1.1-.9-2-2-2zM9 17H7v-7h2v7zm4 0h-2V7h2v10zm4 0h-2v-4h2v4z\"/>\n",
              "    </g>\n",
              "</svg>\n",
              "  </button>\n",
              "\n",
              "<style>\n",
              "  .colab-df-quickchart {\n",
              "      --bg-color: #E8F0FE;\n",
              "      --fill-color: #1967D2;\n",
              "      --hover-bg-color: #E2EBFA;\n",
              "      --hover-fill-color: #174EA6;\n",
              "      --disabled-fill-color: #AAA;\n",
              "      --disabled-bg-color: #DDD;\n",
              "  }\n",
              "\n",
              "  [theme=dark] .colab-df-quickchart {\n",
              "      --bg-color: #3B4455;\n",
              "      --fill-color: #D2E3FC;\n",
              "      --hover-bg-color: #434B5C;\n",
              "      --hover-fill-color: #FFFFFF;\n",
              "      --disabled-bg-color: #3B4455;\n",
              "      --disabled-fill-color: #666;\n",
              "  }\n",
              "\n",
              "  .colab-df-quickchart {\n",
              "    background-color: var(--bg-color);\n",
              "    border: none;\n",
              "    border-radius: 50%;\n",
              "    cursor: pointer;\n",
              "    display: none;\n",
              "    fill: var(--fill-color);\n",
              "    height: 32px;\n",
              "    padding: 0;\n",
              "    width: 32px;\n",
              "  }\n",
              "\n",
              "  .colab-df-quickchart:hover {\n",
              "    background-color: var(--hover-bg-color);\n",
              "    box-shadow: 0 1px 2px rgba(60, 64, 67, 0.3), 0 1px 3px 1px rgba(60, 64, 67, 0.15);\n",
              "    fill: var(--button-hover-fill-color);\n",
              "  }\n",
              "\n",
              "  .colab-df-quickchart-complete:disabled,\n",
              "  .colab-df-quickchart-complete:disabled:hover {\n",
              "    background-color: var(--disabled-bg-color);\n",
              "    fill: var(--disabled-fill-color);\n",
              "    box-shadow: none;\n",
              "  }\n",
              "\n",
              "  .colab-df-spinner {\n",
              "    border: 2px solid var(--fill-color);\n",
              "    border-color: transparent;\n",
              "    border-bottom-color: var(--fill-color);\n",
              "    animation:\n",
              "      spin 1s steps(1) infinite;\n",
              "  }\n",
              "\n",
              "  @keyframes spin {\n",
              "    0% {\n",
              "      border-color: transparent;\n",
              "      border-bottom-color: var(--fill-color);\n",
              "      border-left-color: var(--fill-color);\n",
              "    }\n",
              "    20% {\n",
              "      border-color: transparent;\n",
              "      border-left-color: var(--fill-color);\n",
              "      border-top-color: var(--fill-color);\n",
              "    }\n",
              "    30% {\n",
              "      border-color: transparent;\n",
              "      border-left-color: var(--fill-color);\n",
              "      border-top-color: var(--fill-color);\n",
              "      border-right-color: var(--fill-color);\n",
              "    }\n",
              "    40% {\n",
              "      border-color: transparent;\n",
              "      border-right-color: var(--fill-color);\n",
              "      border-top-color: var(--fill-color);\n",
              "    }\n",
              "    60% {\n",
              "      border-color: transparent;\n",
              "      border-right-color: var(--fill-color);\n",
              "    }\n",
              "    80% {\n",
              "      border-color: transparent;\n",
              "      border-right-color: var(--fill-color);\n",
              "      border-bottom-color: var(--fill-color);\n",
              "    }\n",
              "    90% {\n",
              "      border-color: transparent;\n",
              "      border-bottom-color: var(--fill-color);\n",
              "    }\n",
              "  }\n",
              "</style>\n",
              "\n",
              "  <script>\n",
              "    async function quickchart(key) {\n",
              "      const quickchartButtonEl =\n",
              "        document.querySelector('#' + key + ' button');\n",
              "      quickchartButtonEl.disabled = true;  // To prevent multiple clicks.\n",
              "      quickchartButtonEl.classList.add('colab-df-spinner');\n",
              "      try {\n",
              "        const charts = await google.colab.kernel.invokeFunction(\n",
              "            'suggestCharts', [key], {});\n",
              "      } catch (error) {\n",
              "        console.error('Error during call to suggestCharts:', error);\n",
              "      }\n",
              "      quickchartButtonEl.classList.remove('colab-df-spinner');\n",
              "      quickchartButtonEl.classList.add('colab-df-quickchart-complete');\n",
              "    }\n",
              "    (() => {\n",
              "      let quickchartButtonEl =\n",
              "        document.querySelector('#df-6af602f1-84e0-43e5-92fc-a7a721c75693 button');\n",
              "      quickchartButtonEl.style.display =\n",
              "        google.colab.kernel.accessAllowed ? 'block' : 'none';\n",
              "    })();\n",
              "  </script>\n",
              "</div>\n",
              "    </div>\n",
              "  </div>\n"
            ]
          },
          "metadata": {},
          "execution_count": 3
        }
      ],
      "source": [
        "df.head()"
      ]
    },
    {
      "cell_type": "markdown",
      "metadata": {
        "id": "KOInDTpWCAEg"
      },
      "source": [
        "Check the data type of each column in dataframe."
      ]
    },
    {
      "cell_type": "code",
      "execution_count": 4,
      "metadata": {
        "colab": {
          "base_uri": "https://localhost:8080/"
        },
        "id": "Ie3jG04lCAEg",
        "outputId": "4f43081a-ea2e-4296-8853-9a4fea8af363"
      },
      "outputs": [
        {
          "output_type": "execute_result",
          "data": {
            "text/plain": [
              "Date          object\n",
              "Open         float64\n",
              "High         float64\n",
              "Low          float64\n",
              "Close        float64\n",
              "Adj Close    float64\n",
              "Volume         int64\n",
              "dtype: object"
            ]
          },
          "metadata": {},
          "execution_count": 4
        }
      ],
      "source": [
        "df.dtypes"
      ]
    },
    {
      "cell_type": "markdown",
      "metadata": {
        "id": "Qm97cmOoCAEh"
      },
      "source": [
        "The date column provided in the dataset is of object type, it has to be changed into\n",
        "datetime format."
      ]
    },
    {
      "cell_type": "code",
      "execution_count": 5,
      "metadata": {
        "colab": {
          "base_uri": "https://localhost:8080/",
          "height": 297
        },
        "id": "2kyocyT4CAEh",
        "outputId": "f4847e52-590c-4a79-acaa-b4b153dba9ff"
      },
      "outputs": [
        {
          "output_type": "execute_result",
          "data": {
            "text/plain": [
              "              Open         High          Low        Close    Adj Close  \\\n",
              "count  4006.000000  4006.000000  4006.000000  4006.000000  4006.000000   \n",
              "mean    519.588636   524.473898   514.551292   519.669776   519.669776   \n",
              "std     369.380297   372.830122   366.249678   369.794911   369.794911   \n",
              "min      49.409801    50.680038    47.800831    49.818268    49.818268   \n",
              "25%     239.472400   241.624336   236.975513   239.440025   239.440025   \n",
              "50%     336.583405   339.118897   333.425232   337.315659   337.315659   \n",
              "75%     758.877487   767.349991   752.089996   759.529984   759.529984   \n",
              "max    1550.000000  1577.131958  1521.400024  1541.739990  1541.739990   \n",
              "\n",
              "             Volume  \n",
              "count  4.006000e+03  \n",
              "mean   6.916466e+06  \n",
              "std    7.994278e+06  \n",
              "min    7.900000e+03  \n",
              "25%    1.718900e+06  \n",
              "50%    4.216250e+06  \n",
              "75%    8.821450e+06  \n",
              "max    8.254150e+07  "
            ],
            "text/html": [
              "\n",
              "  <div id=\"df-eb67e6c9-c8cb-4a3f-9cc8-086b7a2c1e30\" class=\"colab-df-container\">\n",
              "    <div>\n",
              "<style scoped>\n",
              "    .dataframe tbody tr th:only-of-type {\n",
              "        vertical-align: middle;\n",
              "    }\n",
              "\n",
              "    .dataframe tbody tr th {\n",
              "        vertical-align: top;\n",
              "    }\n",
              "\n",
              "    .dataframe thead th {\n",
              "        text-align: right;\n",
              "    }\n",
              "</style>\n",
              "<table border=\"1\" class=\"dataframe\">\n",
              "  <thead>\n",
              "    <tr style=\"text-align: right;\">\n",
              "      <th></th>\n",
              "      <th>Open</th>\n",
              "      <th>High</th>\n",
              "      <th>Low</th>\n",
              "      <th>Close</th>\n",
              "      <th>Adj Close</th>\n",
              "      <th>Volume</th>\n",
              "    </tr>\n",
              "  </thead>\n",
              "  <tbody>\n",
              "    <tr>\n",
              "      <th>count</th>\n",
              "      <td>4006.000000</td>\n",
              "      <td>4006.000000</td>\n",
              "      <td>4006.000000</td>\n",
              "      <td>4006.000000</td>\n",
              "      <td>4006.000000</td>\n",
              "      <td>4.006000e+03</td>\n",
              "    </tr>\n",
              "    <tr>\n",
              "      <th>mean</th>\n",
              "      <td>519.588636</td>\n",
              "      <td>524.473898</td>\n",
              "      <td>514.551292</td>\n",
              "      <td>519.669776</td>\n",
              "      <td>519.669776</td>\n",
              "      <td>6.916466e+06</td>\n",
              "    </tr>\n",
              "    <tr>\n",
              "      <th>std</th>\n",
              "      <td>369.380297</td>\n",
              "      <td>372.830122</td>\n",
              "      <td>366.249678</td>\n",
              "      <td>369.794911</td>\n",
              "      <td>369.794911</td>\n",
              "      <td>7.994278e+06</td>\n",
              "    </tr>\n",
              "    <tr>\n",
              "      <th>min</th>\n",
              "      <td>49.409801</td>\n",
              "      <td>50.680038</td>\n",
              "      <td>47.800831</td>\n",
              "      <td>49.818268</td>\n",
              "      <td>49.818268</td>\n",
              "      <td>7.900000e+03</td>\n",
              "    </tr>\n",
              "    <tr>\n",
              "      <th>25%</th>\n",
              "      <td>239.472400</td>\n",
              "      <td>241.624336</td>\n",
              "      <td>236.975513</td>\n",
              "      <td>239.440025</td>\n",
              "      <td>239.440025</td>\n",
              "      <td>1.718900e+06</td>\n",
              "    </tr>\n",
              "    <tr>\n",
              "      <th>50%</th>\n",
              "      <td>336.583405</td>\n",
              "      <td>339.118897</td>\n",
              "      <td>333.425232</td>\n",
              "      <td>337.315659</td>\n",
              "      <td>337.315659</td>\n",
              "      <td>4.216250e+06</td>\n",
              "    </tr>\n",
              "    <tr>\n",
              "      <th>75%</th>\n",
              "      <td>758.877487</td>\n",
              "      <td>767.349991</td>\n",
              "      <td>752.089996</td>\n",
              "      <td>759.529984</td>\n",
              "      <td>759.529984</td>\n",
              "      <td>8.821450e+06</td>\n",
              "    </tr>\n",
              "    <tr>\n",
              "      <th>max</th>\n",
              "      <td>1550.000000</td>\n",
              "      <td>1577.131958</td>\n",
              "      <td>1521.400024</td>\n",
              "      <td>1541.739990</td>\n",
              "      <td>1541.739990</td>\n",
              "      <td>8.254150e+07</td>\n",
              "    </tr>\n",
              "  </tbody>\n",
              "</table>\n",
              "</div>\n",
              "    <div class=\"colab-df-buttons\">\n",
              "\n",
              "  <div class=\"colab-df-container\">\n",
              "    <button class=\"colab-df-convert\" onclick=\"convertToInteractive('df-eb67e6c9-c8cb-4a3f-9cc8-086b7a2c1e30')\"\n",
              "            title=\"Convert this dataframe to an interactive table.\"\n",
              "            style=\"display:none;\">\n",
              "\n",
              "  <svg xmlns=\"http://www.w3.org/2000/svg\" height=\"24px\" viewBox=\"0 -960 960 960\">\n",
              "    <path d=\"M120-120v-720h720v720H120Zm60-500h600v-160H180v160Zm220 220h160v-160H400v160Zm0 220h160v-160H400v160ZM180-400h160v-160H180v160Zm440 0h160v-160H620v160ZM180-180h160v-160H180v160Zm440 0h160v-160H620v160Z\"/>\n",
              "  </svg>\n",
              "    </button>\n",
              "\n",
              "  <style>\n",
              "    .colab-df-container {\n",
              "      display:flex;\n",
              "      gap: 12px;\n",
              "    }\n",
              "\n",
              "    .colab-df-convert {\n",
              "      background-color: #E8F0FE;\n",
              "      border: none;\n",
              "      border-radius: 50%;\n",
              "      cursor: pointer;\n",
              "      display: none;\n",
              "      fill: #1967D2;\n",
              "      height: 32px;\n",
              "      padding: 0 0 0 0;\n",
              "      width: 32px;\n",
              "    }\n",
              "\n",
              "    .colab-df-convert:hover {\n",
              "      background-color: #E2EBFA;\n",
              "      box-shadow: 0px 1px 2px rgba(60, 64, 67, 0.3), 0px 1px 3px 1px rgba(60, 64, 67, 0.15);\n",
              "      fill: #174EA6;\n",
              "    }\n",
              "\n",
              "    .colab-df-buttons div {\n",
              "      margin-bottom: 4px;\n",
              "    }\n",
              "\n",
              "    [theme=dark] .colab-df-convert {\n",
              "      background-color: #3B4455;\n",
              "      fill: #D2E3FC;\n",
              "    }\n",
              "\n",
              "    [theme=dark] .colab-df-convert:hover {\n",
              "      background-color: #434B5C;\n",
              "      box-shadow: 0px 1px 3px 1px rgba(0, 0, 0, 0.15);\n",
              "      filter: drop-shadow(0px 1px 2px rgba(0, 0, 0, 0.3));\n",
              "      fill: #FFFFFF;\n",
              "    }\n",
              "  </style>\n",
              "\n",
              "    <script>\n",
              "      const buttonEl =\n",
              "        document.querySelector('#df-eb67e6c9-c8cb-4a3f-9cc8-086b7a2c1e30 button.colab-df-convert');\n",
              "      buttonEl.style.display =\n",
              "        google.colab.kernel.accessAllowed ? 'block' : 'none';\n",
              "\n",
              "      async function convertToInteractive(key) {\n",
              "        const element = document.querySelector('#df-eb67e6c9-c8cb-4a3f-9cc8-086b7a2c1e30');\n",
              "        const dataTable =\n",
              "          await google.colab.kernel.invokeFunction('convertToInteractive',\n",
              "                                                    [key], {});\n",
              "        if (!dataTable) return;\n",
              "\n",
              "        const docLinkHtml = 'Like what you see? Visit the ' +\n",
              "          '<a target=\"_blank\" href=https://colab.research.google.com/notebooks/data_table.ipynb>data table notebook</a>'\n",
              "          + ' to learn more about interactive tables.';\n",
              "        element.innerHTML = '';\n",
              "        dataTable['output_type'] = 'display_data';\n",
              "        await google.colab.output.renderOutput(dataTable, element);\n",
              "        const docLink = document.createElement('div');\n",
              "        docLink.innerHTML = docLinkHtml;\n",
              "        element.appendChild(docLink);\n",
              "      }\n",
              "    </script>\n",
              "  </div>\n",
              "\n",
              "\n",
              "<div id=\"df-b0f2e95d-e4de-4105-9281-91cfeda4a728\">\n",
              "  <button class=\"colab-df-quickchart\" onclick=\"quickchart('df-b0f2e95d-e4de-4105-9281-91cfeda4a728')\"\n",
              "            title=\"Suggest charts\"\n",
              "            style=\"display:none;\">\n",
              "\n",
              "<svg xmlns=\"http://www.w3.org/2000/svg\" height=\"24px\"viewBox=\"0 0 24 24\"\n",
              "     width=\"24px\">\n",
              "    <g>\n",
              "        <path d=\"M19 3H5c-1.1 0-2 .9-2 2v14c0 1.1.9 2 2 2h14c1.1 0 2-.9 2-2V5c0-1.1-.9-2-2-2zM9 17H7v-7h2v7zm4 0h-2V7h2v10zm4 0h-2v-4h2v4z\"/>\n",
              "    </g>\n",
              "</svg>\n",
              "  </button>\n",
              "\n",
              "<style>\n",
              "  .colab-df-quickchart {\n",
              "      --bg-color: #E8F0FE;\n",
              "      --fill-color: #1967D2;\n",
              "      --hover-bg-color: #E2EBFA;\n",
              "      --hover-fill-color: #174EA6;\n",
              "      --disabled-fill-color: #AAA;\n",
              "      --disabled-bg-color: #DDD;\n",
              "  }\n",
              "\n",
              "  [theme=dark] .colab-df-quickchart {\n",
              "      --bg-color: #3B4455;\n",
              "      --fill-color: #D2E3FC;\n",
              "      --hover-bg-color: #434B5C;\n",
              "      --hover-fill-color: #FFFFFF;\n",
              "      --disabled-bg-color: #3B4455;\n",
              "      --disabled-fill-color: #666;\n",
              "  }\n",
              "\n",
              "  .colab-df-quickchart {\n",
              "    background-color: var(--bg-color);\n",
              "    border: none;\n",
              "    border-radius: 50%;\n",
              "    cursor: pointer;\n",
              "    display: none;\n",
              "    fill: var(--fill-color);\n",
              "    height: 32px;\n",
              "    padding: 0;\n",
              "    width: 32px;\n",
              "  }\n",
              "\n",
              "  .colab-df-quickchart:hover {\n",
              "    background-color: var(--hover-bg-color);\n",
              "    box-shadow: 0 1px 2px rgba(60, 64, 67, 0.3), 0 1px 3px 1px rgba(60, 64, 67, 0.15);\n",
              "    fill: var(--button-hover-fill-color);\n",
              "  }\n",
              "\n",
              "  .colab-df-quickchart-complete:disabled,\n",
              "  .colab-df-quickchart-complete:disabled:hover {\n",
              "    background-color: var(--disabled-bg-color);\n",
              "    fill: var(--disabled-fill-color);\n",
              "    box-shadow: none;\n",
              "  }\n",
              "\n",
              "  .colab-df-spinner {\n",
              "    border: 2px solid var(--fill-color);\n",
              "    border-color: transparent;\n",
              "    border-bottom-color: var(--fill-color);\n",
              "    animation:\n",
              "      spin 1s steps(1) infinite;\n",
              "  }\n",
              "\n",
              "  @keyframes spin {\n",
              "    0% {\n",
              "      border-color: transparent;\n",
              "      border-bottom-color: var(--fill-color);\n",
              "      border-left-color: var(--fill-color);\n",
              "    }\n",
              "    20% {\n",
              "      border-color: transparent;\n",
              "      border-left-color: var(--fill-color);\n",
              "      border-top-color: var(--fill-color);\n",
              "    }\n",
              "    30% {\n",
              "      border-color: transparent;\n",
              "      border-left-color: var(--fill-color);\n",
              "      border-top-color: var(--fill-color);\n",
              "      border-right-color: var(--fill-color);\n",
              "    }\n",
              "    40% {\n",
              "      border-color: transparent;\n",
              "      border-right-color: var(--fill-color);\n",
              "      border-top-color: var(--fill-color);\n",
              "    }\n",
              "    60% {\n",
              "      border-color: transparent;\n",
              "      border-right-color: var(--fill-color);\n",
              "    }\n",
              "    80% {\n",
              "      border-color: transparent;\n",
              "      border-right-color: var(--fill-color);\n",
              "      border-bottom-color: var(--fill-color);\n",
              "    }\n",
              "    90% {\n",
              "      border-color: transparent;\n",
              "      border-bottom-color: var(--fill-color);\n",
              "    }\n",
              "  }\n",
              "</style>\n",
              "\n",
              "  <script>\n",
              "    async function quickchart(key) {\n",
              "      const quickchartButtonEl =\n",
              "        document.querySelector('#' + key + ' button');\n",
              "      quickchartButtonEl.disabled = true;  // To prevent multiple clicks.\n",
              "      quickchartButtonEl.classList.add('colab-df-spinner');\n",
              "      try {\n",
              "        const charts = await google.colab.kernel.invokeFunction(\n",
              "            'suggestCharts', [key], {});\n",
              "      } catch (error) {\n",
              "        console.error('Error during call to suggestCharts:', error);\n",
              "      }\n",
              "      quickchartButtonEl.classList.remove('colab-df-spinner');\n",
              "      quickchartButtonEl.classList.add('colab-df-quickchart-complete');\n",
              "    }\n",
              "    (() => {\n",
              "      let quickchartButtonEl =\n",
              "        document.querySelector('#df-b0f2e95d-e4de-4105-9281-91cfeda4a728 button');\n",
              "      quickchartButtonEl.style.display =\n",
              "        google.colab.kernel.accessAllowed ? 'block' : 'none';\n",
              "    })();\n",
              "  </script>\n",
              "</div>\n",
              "    </div>\n",
              "  </div>\n"
            ]
          },
          "metadata": {},
          "execution_count": 5
        }
      ],
      "source": [
        "df[\"Date\"] = pd.to_datetime(df[\"Date\"], infer_datetime_format=True)\n",
        "\n",
        "df.describe()  # concise summary of the dataframe"
      ]
    },
    {
      "cell_type": "markdown",
      "metadata": {
        "id": "_g6OhmhACAEh"
      },
      "source": [
        "**Visualizing the features**"
      ]
    },
    {
      "cell_type": "code",
      "execution_count": 6,
      "metadata": {
        "colab": {
          "base_uri": "https://localhost:8080/",
          "height": 691
        },
        "id": "R_7Pbbc7CAEh",
        "outputId": "6c9c3985-ff4e-425b-fb9e-199ae7f14f69"
      },
      "outputs": [
        {
          "output_type": "execute_result",
          "data": {
            "text/plain": [
              "array([<Axes: xlabel='Date'>, <Axes: xlabel='Date'>,\n",
              "       <Axes: xlabel='Date'>, <Axes: xlabel='Date'>,\n",
              "       <Axes: xlabel='Date'>], dtype=object)"
            ]
          },
          "metadata": {},
          "execution_count": 6
        },
        {
          "output_type": "display_data",
          "data": {
            "text/plain": [
              "<Figure size 1000x800 with 5 Axes>"
            ],
            "image/png": "[encoded data removed]"
          },
          "metadata": {}
        }
      ],
      "source": [
        "mpl.rcParams[\"figure.figsize\"] = (10, 8)\n",
        "mpl.rcParams[\"axes.grid\"] = False\n",
        "df.set_index(\"Date\")[[\"Open\", \"High\", \"Low\", \"Close\", \"Adj Close\"]].plot(subplots=True)"
      ]
    },
    {
      "cell_type": "markdown",
      "metadata": {
        "id": "ow3EXnTUCAEi"
      },
      "source": [
        "Taking 5 features as the input to the time series - open, high, low, close, Adjusted close"
      ]
    },
    {
      "cell_type": "code",
      "execution_count": 7,
      "metadata": {
        "id": "ziC8mjSlCAEi"
      },
      "outputs": [],
      "source": [
        "df_input = df[[\"Open\", \"High\", \"Low\", \"Close\", \"Adj Close\",]]"
      ]
    },
    {
      "cell_type": "markdown",
      "metadata": {
        "id": "i2SXW4dnCAEi"
      },
      "source": [
        "## Data Preprocessing\n",
        "### 1. Standardization of data\n",
        "\n",
        "**StandardScaler()**\n",
        "\n",
        "LSTM uses sigmoid and tanh that are sensitive to magnitude so values need to be\n",
        "normalized.\n",
        "\n",
        "Since there are 5 features used in this example for prediction and have different scales,\n",
        "they are Standardized to have a common scale while building the model.\n",
        "\n",
        "StandardScaler() will normalize the features i.e. each column of X, INDIVIDUALLY, so that\n",
        "each column/feature/variable will have mean = 0 and standard deviation = 1"
      ]
    },
    {
      "cell_type": "code",
      "execution_count": 8,
      "metadata": {
        "colab": {
          "base_uri": "https://localhost:8080/"
        },
        "id": "kh0SqyMQCAEi",
        "outputId": "786923c5-2dd4-41f4-a29d-0edc1d3b76a1"
      },
      "outputs": [
        {
          "output_type": "execute_result",
          "data": {
            "text/plain": [
              "array([[-1.27195197, -1.26786213, -1.2745642 , -1.27028724, -1.27028724],\n",
              "       [-1.27058974, -1.26115415, -1.26838862, -1.2595499 , -1.2595499 ],\n",
              "       [-1.25745309, -1.25527464, -1.25675839, -1.25808143, -1.25808143],\n",
              "       ...,\n",
              "       [ 2.71716347,  2.71164316,  2.68552176,  2.68823148,  2.68823148],\n",
              "       [ 2.65453724,  2.66700596,  2.65359982,  2.70002324,  2.70002324],\n",
              "       [ 2.713075  ,  2.67974794,  2.68666878,  2.69339725,  2.69339725]])"
            ]
          },
          "metadata": {},
          "execution_count": 8
        }
      ],
      "source": [
        "scaler = StandardScaler()\n",
        "data_scaled = scaler.fit_transform(df_input)\n",
        "data_scaled"
      ]
    },
    {
      "cell_type": "markdown",
      "metadata": {
        "id": "tHJ7pVPzCAEj"
      },
      "source": [
        "**Set the features and target for the model**\n",
        "\n",
        "1. features = Open, High, Low, Close, Adj close\n",
        "2. target = Open"
      ]
    },
    {
      "cell_type": "code",
      "execution_count": 9,
      "metadata": {
        "id": "i9W0bs2CCAEj"
      },
      "outputs": [],
      "source": [
        "features = data_scaled\n",
        "target = data_scaled[:, 0]  # Target Column - Open Price"
      ]
    },
    {
      "cell_type": "markdown",
      "metadata": {
        "id": "wwY5Hux1CAEk"
      },
      "source": [
        "Split the data into training and testing."
      ]
    },
    {
      "cell_type": "code",
      "execution_count": 10,
      "metadata": {
        "colab": {
          "base_uri": "https://localhost:8080/"
        },
        "id": "bb5M8W8TCAEk",
        "outputId": "5d631ae9-4430-4063-ee15-d66c523a6863"
      },
      "outputs": [
        {
          "output_type": "stream",
          "name": "stdout",
          "text": [
            "(3004, 5)\n"
          ]
        }
      ],
      "source": [
        "x_train, x_test, y_train, y_test = train_test_split(\n",
        "    features, target, test_size=0.25, random_state=123, shuffle=False\n",
        ")\n",
        "\n",
        "print(x_train.shape)"
      ]
    },
    {
      "cell_type": "markdown",
      "metadata": {
        "id": "iod0c-PkCAEk"
      },
      "source": [
        "**Training Data**\n",
        "\n",
        "1. Size: 3004\n",
        "2. features: 5"
      ]
    },
    {
      "cell_type": "code",
      "execution_count": 11,
      "metadata": {
        "colab": {
          "base_uri": "https://localhost:8080/"
        },
        "id": "IEBezHChCAEk",
        "outputId": "989b0c62-4458-4414-d5a3-d5c9bfa01b04"
      },
      "outputs": [
        {
          "output_type": "stream",
          "name": "stdout",
          "text": [
            "(1002, 5)\n"
          ]
        }
      ],
      "source": [
        "print(x_test.shape)"
      ]
    },
    {
      "cell_type": "markdown",
      "metadata": {
        "id": "CgAeV5sRCAEl"
      },
      "source": [
        "**Testing Data**\n",
        "\n",
        "1. Size: 1002\n",
        "2. features: 5"
      ]
    },
    {
      "cell_type": "markdown",
      "metadata": {
        "id": "wRnZPXnkCAEl"
      },
      "source": [
        "### 2. TimeseriesGenerator\n",
        "\n",
        "**TimeseriesGenerator()** is used to automatically transform both univariate and\n",
        "multivariate time series data into samples, ready to train deep learning models.\n",
        "\n",
        "In this example, Keras TimeseriesGenerator is used for preparing time series data for\n",
        "modelling with deep learning methods.\n",
        "\n",
        "Arguments that are passed to TimeseriesGenerator:\n",
        "1. features: Passing the scaled multivariate data\n",
        "2. target: Passing the scaled target column\n",
        "3. length: It is the window_length\n",
        "4. Sampling_rate: Period between successive individual timesteps within sequences.\n",
        "5. batch_size: Number of time-series samples in each batch\n",
        "\n",
        "To know more about TimeseriesGenerator, check the Keras documentation:\n",
        "[TimeseriesGenerator](https://keras.io/api/preprocessing/timeseries/)"
      ]
    },
    {
      "cell_type": "code",
      "execution_count": 12,
      "metadata": {
        "colab": {
          "base_uri": "https://localhost:8080/"
        },
        "id": "C8bE1dDFCAEl",
        "outputId": "2fe6caeb-5ab1-45b0-cbe2-d2f2780e4f2b"
      },
      "outputs": [
        {
          "output_type": "stream",
          "name": "stdout",
          "text": [
            "Input Features\n",
            " [[-1.27195197 -1.26786213 -1.2745642  -1.27028724 -1.27028724]\n",
            " [-1.27058974 -1.26115415 -1.26838862 -1.2595499  -1.2595499 ]\n",
            " [-1.25745309 -1.25527464 -1.25675839 -1.25808143 -1.25808143]]\n",
            "\n",
            "TimeseriesGenerator\n",
            "(array([[[-1.27195197, -1.26786213, -1.2745642 , -1.27028724,\n",
            "         -1.27028724],\n",
            "        [-1.27058974, -1.26115415, -1.26838862, -1.2595499 ,\n",
            "         -1.2595499 ]]]), array([-1.25745309]))\n"
          ]
        }
      ],
      "source": [
        "# This code block is for the understanding the output of TimeseriesGenerator\n",
        "print(\"Input Features\\n\", data_scaled[0:3])\n",
        "print(\"\\nTimeseriesGenerator\")\n",
        "print(TimeseriesGenerator(features, target, length=2, sampling_rate=1, batch_size=1)[0])"
      ]
    },
    {
      "cell_type": "markdown",
      "metadata": {
        "id": "5gWol3zQCAEl"
      },
      "source": [
        "From the above output, it can be observed that the opening price of 3rd day is made as\n",
        "the target value for the input features of first two days."
      ]
    },
    {
      "cell_type": "markdown",
      "metadata": {
        "id": "1HQBbaumCAEl"
      },
      "source": [
        "## Build the model"
      ]
    },
    {
      "cell_type": "markdown",
      "metadata": {
        "id": "eM6iPLwyCAEl"
      },
      "source": [
        "### 1. Set the parameters"
      ]
    },
    {
      "cell_type": "code",
      "execution_count": 13,
      "metadata": {
        "id": "X2JUCjUVCAEl"
      },
      "outputs": [],
      "source": [
        "win_length = 60  # window length\n",
        "batch_size = 62\n",
        "num_features = 5\n",
        "train_generator = TimeseriesGenerator(\n",
        "    x_train, y_train, length=win_length, sampling_rate=1, batch_size=batch_size\n",
        ")\n",
        "test_generator = TimeseriesGenerator(\n",
        "    x_test, y_test, length=win_length, sampling_rate=1, batch_size=batch_size\n",
        ")"
      ]
    },
    {
      "cell_type": "markdown",
      "metadata": {
        "id": "HmgDrj3BCAEm"
      },
      "source": [
        "### 2. Build the model using LSTM"
      ]
    },
    {
      "cell_type": "markdown",
      "metadata": {
        "id": "BRk_p83ACAEm"
      },
      "source": [
        "**Leaky ReLU**\n",
        "\n",
        "Leaky ReLU function is an improved version of the ReLU activation function. As for the\n",
        "ReLU activation function, the gradient is 0 for all the values of inputs that are less\n",
        "than zero, which would deactivate the neurons in that region and may cause a dying ReLU\n",
        "problem.\n",
        "\n",
        "Leaky ReLU is defined to address this problem. Instead of defining the ReLU activation\n",
        "function as 0 for negative values of inputs(x), we define it as an extremely small linear\n",
        "component of x. Here is the formula for this activation function:\n",
        "\n",
        "f(x)=max(0.01*x , x)\n",
        "\n",
        "For reference, Relu formula: f(x) = max(0,x)\n",
        "\n",
        "This function returns x if it receives any positive input, but for any negative value of\n",
        "x, it returns a really small value which is 0.01 times x.\n",
        "\n",
        "**Why LSTM?**\n",
        "\n",
        "Recurrent neural networks are much more flexible and much better suited to time series\n",
        "forecasting than the linear models usually applied.\n",
        "\n",
        "Recurrent neural networks, of which LSTMs (“long short-term memory” units) are the most\n",
        "powerful and well-known subset, are a type of artificial neural network designed to\n",
        "recognize patterns in sequences of data, such as numerical times series data."
      ]
    },
    {
      "cell_type": "code",
      "execution_count": 14,
      "metadata": {
        "id": "f9jUlBmPCAEm"
      },
      "outputs": [],
      "source": [
        "model = tf.keras.Sequential()\n",
        "model.add(\n",
        "    tf.keras.layers.LSTM(\n",
        "        256, input_shape=(win_length, num_features), return_sequences=True\n",
        "    )\n",
        ")\n",
        "model.add(tf.keras.layers.LeakyReLU(alpha=0.5))\n",
        "model.add(tf.keras.layers.LSTM(128, return_sequences=True))\n",
        "model.add(tf.keras.layers.LeakyReLU(alpha=0.5))\n",
        "model.add(tf.keras.layers.Dropout(0.3))\n",
        "model.add(tf.keras.layers.LSTM(64, return_sequences=False))\n",
        "model.add(tf.keras.layers.Dropout(0.3))\n",
        "model.add(tf.keras.layers.Dense(1))"
      ]
    },
    {
      "cell_type": "markdown",
      "metadata": {
        "id": "dxpPTrsACAEm"
      },
      "source": [
        "**summary of the model**"
      ]
    },
    {
      "cell_type": "code",
      "execution_count": 15,
      "metadata": {
        "colab": {
          "base_uri": "https://localhost:8080/"
        },
        "id": "BG3_A6SmCAEm",
        "outputId": "20e37e1f-9677-41c5-c7c0-c3e6dc87b589"
      },
      "outputs": [
        {
          "output_type": "stream",
          "name": "stdout",
          "text": [
            "Model: \"sequential\"\n",
            "_________________________________________________________________\n",
            " Layer (type)                Output Shape              Param #   \n",
            "=================================================================\n",
            " lstm (LSTM)                 (None, 60, 256)           268288    \n",
            "                                                                 \n",
            " leaky_re_lu (LeakyReLU)     (None, 60, 256)           0         \n",
            "                                                                 \n",
            " lstm_1 (LSTM)               (None, 60, 128)           197120    \n",
            "                                                                 \n",
            " leaky_re_lu_1 (LeakyReLU)   (None, 60, 128)           0         \n",
            "                                                                 \n",
            " dropout (Dropout)           (None, 60, 128)           0         \n",
            "                                                                 \n",
            " lstm_2 (LSTM)               (None, 64)                49408     \n",
            "                                                                 \n",
            " dropout_1 (Dropout)         (None, 64)                0         \n",
            "                                                                 \n",
            " dense (Dense)               (None, 1)                 65        \n",
            "                                                                 \n",
            "=================================================================\n",
            "Total params: 514881 (1.96 MB)\n",
            "Trainable params: 514881 (1.96 MB)\n",
            "Non-trainable params: 0 (0.00 Byte)\n",
            "_________________________________________________________________\n"
          ]
        }
      ],
      "source": [
        "model.summary()"
      ]
    },
    {
      "cell_type": "markdown",
      "metadata": {
        "id": "7bBskBYZCAEm"
      },
      "source": [
        "## Train the model"
      ]
    },
    {
      "cell_type": "code",
      "execution_count": 16,
      "metadata": {
        "colab": {
          "base_uri": "https://localhost:8080/"
        },
        "id": "azPRMTodCAEm",
        "outputId": "cb709c82-2cbb-4db8-fd6a-e7758cb51bb6"
      },
      "outputs": [
        {
          "output_type": "stream",
          "name": "stdout",
          "text": [
            "Epoch 1/50\n",
            "48/48 [==============================] - 31s 531ms/step - loss: 0.0626 - mean_absolute_error: 0.1574 - val_loss: 0.0731 - val_mean_absolute_error: 0.2099\n",
            "Epoch 2/50\n",
            "48/48 [==============================] - 25s 522ms/step - loss: 0.0336 - mean_absolute_error: 0.1423 - val_loss: 0.0794 - val_mean_absolute_error: 0.2567\n",
            "Epoch 3/50\n",
            "48/48 [==============================] - 24s 512ms/step - loss: 0.0327 - mean_absolute_error: 0.1357 - val_loss: 0.0410 - val_mean_absolute_error: 0.1691\n",
            "Epoch 4/50\n",
            "48/48 [==============================] - 23s 475ms/step - loss: 0.0431 - mean_absolute_error: 0.1474 - val_loss: 0.0222 - val_mean_absolute_error: 0.1032\n",
            "Epoch 5/50\n",
            "48/48 [==============================] - 24s 512ms/step - loss: 0.0323 - mean_absolute_error: 0.1268 - val_loss: 0.0171 - val_mean_absolute_error: 0.0967\n",
            "Epoch 6/50\n",
            "48/48 [==============================] - 23s 470ms/step - loss: 0.0233 - mean_absolute_error: 0.1086 - val_loss: 0.0179 - val_mean_absolute_error: 0.1100\n",
            "Epoch 7/50\n",
            "48/48 [==============================] - 26s 540ms/step - loss: 0.0184 - mean_absolute_error: 0.0969 - val_loss: 0.0152 - val_mean_absolute_error: 0.0915\n",
            "Epoch 8/50\n",
            "48/48 [==============================] - 25s 520ms/step - loss: 0.0132 - mean_absolute_error: 0.0876 - val_loss: 0.1691 - val_mean_absolute_error: 0.3741\n",
            "Epoch 9/50\n",
            "48/48 [==============================] - 27s 567ms/step - loss: 0.0106 - mean_absolute_error: 0.0777 - val_loss: 0.0217 - val_mean_absolute_error: 0.1127\n",
            "Epoch 10/50\n",
            "48/48 [==============================] - 25s 521ms/step - loss: 0.0163 - mean_absolute_error: 0.0924 - val_loss: 0.0348 - val_mean_absolute_error: 0.1362\n",
            "Epoch 11/50\n",
            "48/48 [==============================] - 24s 501ms/step - loss: 0.0136 - mean_absolute_error: 0.0853 - val_loss: 0.0191 - val_mean_absolute_error: 0.0960\n",
            "Epoch 12/50\n",
            "48/48 [==============================] - 24s 504ms/step - loss: 0.0088 - mean_absolute_error: 0.0701 - val_loss: 0.0098 - val_mean_absolute_error: 0.0714\n",
            "Epoch 13/50\n",
            "48/48 [==============================] - 24s 498ms/step - loss: 0.0075 - mean_absolute_error: 0.0659 - val_loss: 0.0293 - val_mean_absolute_error: 0.1260\n",
            "Epoch 14/50\n",
            "48/48 [==============================] - 25s 524ms/step - loss: 0.0074 - mean_absolute_error: 0.0651 - val_loss: 0.0597 - val_mean_absolute_error: 0.1858\n",
            "Epoch 15/50\n",
            "48/48 [==============================] - 27s 560ms/step - loss: 0.0061 - mean_absolute_error: 0.0590 - val_loss: 0.0141 - val_mean_absolute_error: 0.0932\n",
            "Epoch 16/50\n",
            "48/48 [==============================] - 25s 526ms/step - loss: 0.0058 - mean_absolute_error: 0.0582 - val_loss: 0.0189 - val_mean_absolute_error: 0.1056\n",
            "Epoch 17/50\n",
            "48/48 [==============================] - 24s 503ms/step - loss: 0.0087 - mean_absolute_error: 0.0699 - val_loss: 0.0195 - val_mean_absolute_error: 0.1033\n",
            "Epoch 18/50\n",
            "48/48 [==============================] - 25s 511ms/step - loss: 0.0095 - mean_absolute_error: 0.0728 - val_loss: 0.0210 - val_mean_absolute_error: 0.1017\n",
            "Epoch 19/50\n",
            "48/48 [==============================] - 24s 495ms/step - loss: 0.0069 - mean_absolute_error: 0.0624 - val_loss: 0.0125 - val_mean_absolute_error: 0.0887\n",
            "Epoch 20/50\n",
            "48/48 [==============================] - 25s 520ms/step - loss: 0.0063 - mean_absolute_error: 0.0607 - val_loss: 0.0635 - val_mean_absolute_error: 0.2280\n",
            "Epoch 21/50\n",
            "48/48 [==============================] - 24s 510ms/step - loss: 0.0060 - mean_absolute_error: 0.0587 - val_loss: 0.0224 - val_mean_absolute_error: 0.1114\n",
            "Epoch 22/50\n",
            "48/48 [==============================] - 24s 487ms/step - loss: 0.0069 - mean_absolute_error: 0.0633 - val_loss: 0.0901 - val_mean_absolute_error: 0.2503\n",
            "Epoch 23/50\n",
            "48/48 [==============================] - 25s 521ms/step - loss: 0.0060 - mean_absolute_error: 0.0578 - val_loss: 0.0655 - val_mean_absolute_error: 0.2111\n",
            "Epoch 24/50\n",
            "48/48 [==============================] - 23s 486ms/step - loss: 0.0051 - mean_absolute_error: 0.0537 - val_loss: 0.0236 - val_mean_absolute_error: 0.1127\n",
            "Epoch 25/50\n",
            "48/48 [==============================] - 25s 514ms/step - loss: 0.0050 - mean_absolute_error: 0.0538 - val_loss: 0.0132 - val_mean_absolute_error: 0.0845\n",
            "Epoch 26/50\n",
            "48/48 [==============================] - 23s 484ms/step - loss: 0.0051 - mean_absolute_error: 0.0540 - val_loss: 0.0108 - val_mean_absolute_error: 0.0821\n",
            "Epoch 27/50\n",
            "48/48 [==============================] - 24s 508ms/step - loss: 0.0056 - mean_absolute_error: 0.0576 - val_loss: 0.0925 - val_mean_absolute_error: 0.2762\n",
            "Epoch 28/50\n",
            "48/48 [==============================] - 25s 516ms/step - loss: 0.0054 - mean_absolute_error: 0.0549 - val_loss: 0.0107 - val_mean_absolute_error: 0.0781\n",
            "Epoch 29/50\n",
            "48/48 [==============================] - 24s 511ms/step - loss: 0.0069 - mean_absolute_error: 0.0626 - val_loss: 0.0511 - val_mean_absolute_error: 0.1932\n",
            "Epoch 30/50\n",
            "48/48 [==============================] - 24s 488ms/step - loss: 0.0077 - mean_absolute_error: 0.0665 - val_loss: 0.0449 - val_mean_absolute_error: 0.1758\n",
            "Epoch 31/50\n",
            "48/48 [==============================] - 26s 544ms/step - loss: 0.0073 - mean_absolute_error: 0.0639 - val_loss: 0.0436 - val_mean_absolute_error: 0.1711\n",
            "Epoch 32/50\n",
            "48/48 [==============================] - 23s 489ms/step - loss: 0.0068 - mean_absolute_error: 0.0622 - val_loss: 0.0526 - val_mean_absolute_error: 0.1854\n",
            "Epoch 33/50\n",
            "48/48 [==============================] - 25s 533ms/step - loss: 0.0066 - mean_absolute_error: 0.0607 - val_loss: 0.0153 - val_mean_absolute_error: 0.0920\n",
            "Epoch 34/50\n",
            "48/48 [==============================] - 24s 511ms/step - loss: 0.0051 - mean_absolute_error: 0.0545 - val_loss: 0.0711 - val_mean_absolute_error: 0.2173\n",
            "Epoch 35/50\n",
            "48/48 [==============================] - 24s 507ms/step - loss: 0.0053 - mean_absolute_error: 0.0555 - val_loss: 0.0252 - val_mean_absolute_error: 0.1172\n",
            "Epoch 36/50\n",
            "48/48 [==============================] - 24s 503ms/step - loss: 0.0051 - mean_absolute_error: 0.0542 - val_loss: 0.0146 - val_mean_absolute_error: 0.1030\n",
            "Epoch 37/50\n",
            "48/48 [==============================] - 24s 508ms/step - loss: 0.0049 - mean_absolute_error: 0.0529 - val_loss: 0.0887 - val_mean_absolute_error: 0.2575\n",
            "Epoch 38/50\n",
            "48/48 [==============================] - 24s 499ms/step - loss: 0.0047 - mean_absolute_error: 0.0523 - val_loss: 0.1242 - val_mean_absolute_error: 0.2916\n",
            "Epoch 39/50\n",
            "48/48 [==============================] - 23s 483ms/step - loss: 0.0045 - mean_absolute_error: 0.0503 - val_loss: 0.0357 - val_mean_absolute_error: 0.1480\n",
            "Epoch 40/50\n",
            "48/48 [==============================] - 24s 499ms/step - loss: 0.0044 - mean_absolute_error: 0.0501 - val_loss: 0.0374 - val_mean_absolute_error: 0.1396\n",
            "Epoch 41/50\n",
            "48/48 [==============================] - 24s 503ms/step - loss: 0.0051 - mean_absolute_error: 0.0549 - val_loss: 0.0196 - val_mean_absolute_error: 0.1223\n",
            "Epoch 42/50\n",
            "48/48 [==============================] - 24s 501ms/step - loss: 0.0045 - mean_absolute_error: 0.0507 - val_loss: 0.0365 - val_mean_absolute_error: 0.1447\n",
            "Epoch 43/50\n",
            "48/48 [==============================] - 24s 506ms/step - loss: 0.0051 - mean_absolute_error: 0.0537 - val_loss: 0.0437 - val_mean_absolute_error: 0.1651\n",
            "Epoch 44/50\n",
            "48/48 [==============================] - 24s 502ms/step - loss: 0.0044 - mean_absolute_error: 0.0500 - val_loss: 0.0238 - val_mean_absolute_error: 0.1136\n",
            "Epoch 45/50\n",
            "48/48 [==============================] - 23s 478ms/step - loss: 0.0038 - mean_absolute_error: 0.0472 - val_loss: 0.0131 - val_mean_absolute_error: 0.0840\n",
            "Epoch 46/50\n",
            "48/48 [==============================] - 23s 474ms/step - loss: 0.0047 - mean_absolute_error: 0.0523 - val_loss: 0.0063 - val_mean_absolute_error: 0.0584\n",
            "Epoch 47/50\n",
            "48/48 [==============================] - 24s 507ms/step - loss: 0.0046 - mean_absolute_error: 0.0517 - val_loss: 0.0534 - val_mean_absolute_error: 0.1912\n",
            "Epoch 48/50\n",
            "48/48 [==============================] - 23s 482ms/step - loss: 0.0052 - mean_absolute_error: 0.0546 - val_loss: 0.1094 - val_mean_absolute_error: 0.2834\n",
            "Epoch 49/50\n",
            "48/48 [==============================] - 24s 502ms/step - loss: 0.0043 - mean_absolute_error: 0.0501 - val_loss: 0.1097 - val_mean_absolute_error: 0.2767\n",
            "Epoch 50/50\n",
            "48/48 [==============================] - 24s 502ms/step - loss: 0.0035 - mean_absolute_error: 0.0459 - val_loss: 0.0594 - val_mean_absolute_error: 0.1921\n"
          ]
        }
      ],
      "source": [
        "model.compile(\n",
        "    loss=tf.losses.MeanSquaredError(),\n",
        "    optimizer=tf.optimizers.Adam(),\n",
        "    metrics=[tf.metrics.MeanAbsoluteError()],\n",
        ")\n",
        "\n",
        "history = model.fit(\n",
        "    train_generator, epochs=50, validation_data=test_generator, shuffle=False\n",
        ")"
      ]
    },
    {
      "cell_type": "markdown",
      "metadata": {
        "id": "V7bL-g1UCAEn"
      },
      "source": [
        "## Evaluate model on Test data"
      ]
    },
    {
      "cell_type": "markdown",
      "metadata": {
        "id": "J2FaoMMkCAEn"
      },
      "source": [
        "### 1. Visualize the training and validation loss"
      ]
    },
    {
      "cell_type": "code",
      "execution_count": 17,
      "metadata": {
        "colab": {
          "base_uri": "https://localhost:8080/",
          "height": 676
        },
        "id": "O7sysWVACAEn",
        "outputId": "eff9515c-8510-4d32-a019-b1ba04c72954"
      },
      "outputs": [
        {
          "output_type": "display_data",
          "data": {
            "text/plain": [
              "<Figure size 1000x800 with 1 Axes>"
            ],
            "image/png": "[encoded data removed]"
          },
          "metadata": {}
        }
      ],
      "source": [
        "plt.plot(history.history[\"mean_absolute_error\"], label=\"Training MAE\")\n",
        "plt.plot(history.history[\"val_mean_absolute_error\"], label=\"Validation MAE\")\n",
        "plt.legend()\n",
        "plt.show()"
      ]
    },
    {
      "cell_type": "markdown",
      "metadata": {
        "id": "SYKsiVySCAEn"
      },
      "source": [
        "### 2. Test Loss and MAE"
      ]
    },
    {
      "cell_type": "code",
      "execution_count": 18,
      "metadata": {
        "colab": {
          "base_uri": "https://localhost:8080/"
        },
        "id": "YxPTp2KkCAEn",
        "outputId": "3696a625-05e4-4238-aad6-4a04b5809831"
      },
      "outputs": [
        {
          "output_type": "stream",
          "name": "stdout",
          "text": [
            "Test Loss: 0.05943688750267029\n",
            "Test MAE: 0.19207720458507538\n"
          ]
        }
      ],
      "source": [
        "test_loss, test_mae = model.evaluate(test_generator, verbose=0)\n",
        "print(\"Test Loss:\", test_loss)\n",
        "print(\"Test MAE:\", test_mae)"
      ]
    },
    {
      "cell_type": "markdown",
      "metadata": {
        "id": "AQCGb_NBCAEo"
      },
      "source": [
        "## Predictions"
      ]
    },
    {
      "cell_type": "code",
      "execution_count": 19,
      "metadata": {
        "colab": {
          "base_uri": "https://localhost:8080/"
        },
        "id": "Q8qBlQxxCAEo",
        "outputId": "c9cad475-0017-4a79-de90-db2cdc64aad9"
      },
      "outputs": [
        {
          "output_type": "stream",
          "name": "stdout",
          "text": [
            "16/16 [==============================] - 5s 152ms/step\n",
            "942\n"
          ]
        }
      ],
      "source": [
        "predictions = model.predict(test_generator)\n",
        "\n",
        "print(predictions.shape[0])"
      ]
    },
    {
      "cell_type": "markdown",
      "metadata": {
        "id": "TJH89YhtCAEo"
      },
      "source": [
        "The shape of output is 942 and not 1002 when compared with x_test, since the first 60\n",
        "days are used to determine the next day."
      ]
    },
    {
      "cell_type": "code",
      "execution_count": 20,
      "metadata": {
        "colab": {
          "base_uri": "https://localhost:8080/"
        },
        "id": "x703bKuZCAEo",
        "outputId": "b40abe8d-6d29-4e1d-e445-6700578a2fda"
      },
      "outputs": [
        {
          "output_type": "stream",
          "name": "stdout",
          "text": [
            "[[0.75144424 0.77410068 0.76222089 0.76222089]\n",
            " [0.74975424 0.76863925 0.74996925 0.74996925]\n",
            " [0.73776344 0.76309581 0.75646021 0.75646021]\n",
            " ...\n",
            " [2.71164316 2.68552176 2.68823148 2.68823148]\n",
            " [2.66700596 2.65359982 2.70002324 2.70002324]\n",
            " [2.67974794 2.68666878 2.69339725 2.69339725]]\n"
          ]
        }
      ],
      "source": [
        "# Consider only the 942 values after the first 60 values\n",
        "print(x_test[:, 1:][win_length:])"
      ]
    },
    {
      "cell_type": "markdown",
      "metadata": {
        "id": "Q4lR0VIhCAEo"
      },
      "source": [
        "Concatenate the prediction dataframe with the x_test"
      ]
    },
    {
      "cell_type": "code",
      "execution_count": 21,
      "metadata": {
        "colab": {
          "base_uri": "https://localhost:8080/",
          "height": 419
        },
        "id": "qydLDJF4CAEo",
        "outputId": "1ba9501c-630c-443a-ccda-f1be7f57c13d"
      },
      "outputs": [
        {
          "output_type": "execute_result",
          "data": {
            "text/plain": [
              "            0         0         1         2         3\n",
              "0    0.734924  0.751444  0.774101  0.762221  0.762221\n",
              "1    0.745559  0.749754  0.768639  0.749969  0.749969\n",
              "2    0.759495  0.737763  0.763096  0.756460  0.756460\n",
              "3    0.770891  0.779825  0.792642  0.793621  0.793621\n",
              "4    0.782515  0.783849  0.793516  0.778908  0.778908\n",
              "..        ...       ...       ...       ...       ...\n",
              "937  2.159409  2.823778  2.705300  2.682011  2.682011\n",
              "938  2.170550  2.678434  2.645926  2.707001  2.707001\n",
              "939  2.163583  2.711643  2.685522  2.688231  2.688231\n",
              "940  2.145119  2.667006  2.653600  2.700023  2.700023\n",
              "941  2.121177  2.679748  2.686669  2.693397  2.693397\n",
              "\n",
              "[942 rows x 5 columns]"
            ],
            "text/html": [
              "\n",
              "  <div id=\"df-a808bba5-113a-4fbd-af48-391d50d96808\" class=\"colab-df-container\">\n",
              "    <div>\n",
              "<style scoped>\n",
              "    .dataframe tbody tr th:only-of-type {\n",
              "        vertical-align: middle;\n",
              "    }\n",
              "\n",
              "    .dataframe tbody tr th {\n",
              "        vertical-align: top;\n",
              "    }\n",
              "\n",
              "    .dataframe thead th {\n",
              "        text-align: right;\n",
              "    }\n",
              "</style>\n",
              "<table border=\"1\" class=\"dataframe\">\n",
              "  <thead>\n",
              "    <tr style=\"text-align: right;\">\n",
              "      <th></th>\n",
              "      <th>0</th>\n",
              "      <th>0</th>\n",
              "      <th>1</th>\n",
              "      <th>2</th>\n",
              "      <th>3</th>\n",
              "    </tr>\n",
              "  </thead>\n",
              "  <tbody>\n",
              "    <tr>\n",
              "      <th>0</th>\n",
              "      <td>0.734924</td>\n",
              "      <td>0.751444</td>\n",
              "      <td>0.774101</td>\n",
              "      <td>0.762221</td>\n",
              "      <td>0.762221</td>\n",
              "    </tr>\n",
              "    <tr>\n",
              "      <th>1</th>\n",
              "      <td>0.745559</td>\n",
              "      <td>0.749754</td>\n",
              "      <td>0.768639</td>\n",
              "      <td>0.749969</td>\n",
              "      <td>0.749969</td>\n",
              "    </tr>\n",
              "    <tr>\n",
              "      <th>2</th>\n",
              "      <td>0.759495</td>\n",
              "      <td>0.737763</td>\n",
              "      <td>0.763096</td>\n",
              "      <td>0.756460</td>\n",
              "      <td>0.756460</td>\n",
              "    </tr>\n",
              "    <tr>\n",
              "      <th>3</th>\n",
              "      <td>0.770891</td>\n",
              "      <td>0.779825</td>\n",
              "      <td>0.792642</td>\n",
              "      <td>0.793621</td>\n",
              "      <td>0.793621</td>\n",
              "    </tr>\n",
              "    <tr>\n",
              "      <th>4</th>\n",
              "      <td>0.782515</td>\n",
              "      <td>0.783849</td>\n",
              "      <td>0.793516</td>\n",
              "      <td>0.778908</td>\n",
              "      <td>0.778908</td>\n",
              "    </tr>\n",
              "    <tr>\n",
              "      <th>...</th>\n",
              "      <td>...</td>\n",
              "      <td>...</td>\n",
              "      <td>...</td>\n",
              "      <td>...</td>\n",
              "      <td>...</td>\n",
              "    </tr>\n",
              "    <tr>\n",
              "      <th>937</th>\n",
              "      <td>2.159409</td>\n",
              "      <td>2.823778</td>\n",
              "      <td>2.705300</td>\n",
              "      <td>2.682011</td>\n",
              "      <td>2.682011</td>\n",
              "    </tr>\n",
              "    <tr>\n",
              "      <th>938</th>\n",
              "      <td>2.170550</td>\n",
              "      <td>2.678434</td>\n",
              "      <td>2.645926</td>\n",
              "      <td>2.707001</td>\n",
              "      <td>2.707001</td>\n",
              "    </tr>\n",
              "    <tr>\n",
              "      <th>939</th>\n",
              "      <td>2.163583</td>\n",
              "      <td>2.711643</td>\n",
              "      <td>2.685522</td>\n",
              "      <td>2.688231</td>\n",
              "      <td>2.688231</td>\n",
              "    </tr>\n",
              "    <tr>\n",
              "      <th>940</th>\n",
              "      <td>2.145119</td>\n",
              "      <td>2.667006</td>\n",
              "      <td>2.653600</td>\n",
              "      <td>2.700023</td>\n",
              "      <td>2.700023</td>\n",
              "    </tr>\n",
              "    <tr>\n",
              "      <th>941</th>\n",
              "      <td>2.121177</td>\n",
              "      <td>2.679748</td>\n",
              "      <td>2.686669</td>\n",
              "      <td>2.693397</td>\n",
              "      <td>2.693397</td>\n",
              "    </tr>\n",
              "  </tbody>\n",
              "</table>\n",
              "<p>942 rows × 5 columns</p>\n",
              "</div>\n",
              "    <div class=\"colab-df-buttons\">\n",
              "\n",
              "  <div class=\"colab-df-container\">\n",
              "    <button class=\"colab-df-convert\" onclick=\"convertToInteractive('df-a808bba5-113a-4fbd-af48-391d50d96808')\"\n",
              "            title=\"Convert this dataframe to an interactive table.\"\n",
              "            style=\"display:none;\">\n",
              "\n",
              "  <svg xmlns=\"http://www.w3.org/2000/svg\" height=\"24px\" viewBox=\"0 -960 960 960\">\n",
              "    <path d=\"M120-120v-720h720v720H120Zm60-500h600v-160H180v160Zm220 220h160v-160H400v160Zm0 220h160v-160H400v160ZM180-400h160v-160H180v160Zm440 0h160v-160H620v160ZM180-180h160v-160H180v160Zm440 0h160v-160H620v160Z\"/>\n",
              "  </svg>\n",
              "    </button>\n",
              "\n",
              "  <style>\n",
              "    .colab-df-container {\n",
              "      display:flex;\n",
              "      gap: 12px;\n",
              "    }\n",
              "\n",
              "    .colab-df-convert {\n",
              "      background-color: #E8F0FE;\n",
              "      border: none;\n",
              "      border-radius: 50%;\n",
              "      cursor: pointer;\n",
              "      display: none;\n",
              "      fill: #1967D2;\n",
              "      height: 32px;\n",
              "      padding: 0 0 0 0;\n",
              "      width: 32px;\n",
              "    }\n",
              "\n",
              "    .colab-df-convert:hover {\n",
              "      background-color: #E2EBFA;\n",
              "      box-shadow: 0px 1px 2px rgba(60, 64, 67, 0.3), 0px 1px 3px 1px rgba(60, 64, 67, 0.15);\n",
              "      fill: #174EA6;\n",
              "    }\n",
              "\n",
              "    .colab-df-buttons div {\n",
              "      margin-bottom: 4px;\n",
              "    }\n",
              "\n",
              "    [theme=dark] .colab-df-convert {\n",
              "      background-color: #3B4455;\n",
              "      fill: #D2E3FC;\n",
              "    }\n",
              "\n",
              "    [theme=dark] .colab-df-convert:hover {\n",
              "      background-color: #434B5C;\n",
              "      box-shadow: 0px 1px 3px 1px rgba(0, 0, 0, 0.15);\n",
              "      filter: drop-shadow(0px 1px 2px rgba(0, 0, 0, 0.3));\n",
              "      fill: #FFFFFF;\n",
              "    }\n",
              "  </style>\n",
              "\n",
              "    <script>\n",
              "      const buttonEl =\n",
              "        document.querySelector('#df-a808bba5-113a-4fbd-af48-391d50d96808 button.colab-df-convert');\n",
              "      buttonEl.style.display =\n",
              "        google.colab.kernel.accessAllowed ? 'block' : 'none';\n",
              "\n",
              "      async function convertToInteractive(key) {\n",
              "        const element = document.querySelector('#df-a808bba5-113a-4fbd-af48-391d50d96808');\n",
              "        const dataTable =\n",
              "          await google.colab.kernel.invokeFunction('convertToInteractive',\n",
              "                                                    [key], {});\n",
              "        if (!dataTable) return;\n",
              "\n",
              "        const docLinkHtml = 'Like what you see? Visit the ' +\n",
              "          '<a target=\"_blank\" href=https://colab.research.google.com/notebooks/data_table.ipynb>data table notebook</a>'\n",
              "          + ' to learn more about interactive tables.';\n",
              "        element.innerHTML = '';\n",
              "        dataTable['output_type'] = 'display_data';\n",
              "        await google.colab.output.renderOutput(dataTable, element);\n",
              "        const docLink = document.createElement('div');\n",
              "        docLink.innerHTML = docLinkHtml;\n",
              "        element.appendChild(docLink);\n",
              "      }\n",
              "    </script>\n",
              "  </div>\n",
              "\n",
              "\n",
              "<div id=\"df-c0309c8f-a5e3-477d-88aa-f53c8620403b\">\n",
              "  <button class=\"colab-df-quickchart\" onclick=\"quickchart('df-c0309c8f-a5e3-477d-88aa-f53c8620403b')\"\n",
              "            title=\"Suggest charts\"\n",
              "            style=\"display:none;\">\n",
              "\n",
              "<svg xmlns=\"http://www.w3.org/2000/svg\" height=\"24px\"viewBox=\"0 0 24 24\"\n",
              "     width=\"24px\">\n",
              "    <g>\n",
              "        <path d=\"M19 3H5c-1.1 0-2 .9-2 2v14c0 1.1.9 2 2 2h14c1.1 0 2-.9 2-2V5c0-1.1-.9-2-2-2zM9 17H7v-7h2v7zm4 0h-2V7h2v10zm4 0h-2v-4h2v4z\"/>\n",
              "    </g>\n",
              "</svg>\n",
              "  </button>\n",
              "\n",
              "<style>\n",
              "  .colab-df-quickchart {\n",
              "      --bg-color: #E8F0FE;\n",
              "      --fill-color: #1967D2;\n",
              "      --hover-bg-color: #E2EBFA;\n",
              "      --hover-fill-color: #174EA6;\n",
              "      --disabled-fill-color: #AAA;\n",
              "      --disabled-bg-color: #DDD;\n",
              "  }\n",
              "\n",
              "  [theme=dark] .colab-df-quickchart {\n",
              "      --bg-color: #3B4455;\n",
              "      --fill-color: #D2E3FC;\n",
              "      --hover-bg-color: #434B5C;\n",
              "      --hover-fill-color: #FFFFFF;\n",
              "      --disabled-bg-color: #3B4455;\n",
              "      --disabled-fill-color: #666;\n",
              "  }\n",
              "\n",
              "  .colab-df-quickchart {\n",
              "    background-color: var(--bg-color);\n",
              "    border: none;\n",
              "    border-radius: 50%;\n",
              "    cursor: pointer;\n",
              "    display: none;\n",
              "    fill: var(--fill-color);\n",
              "    height: 32px;\n",
              "    padding: 0;\n",
              "    width: 32px;\n",
              "  }\n",
              "\n",
              "  .colab-df-quickchart:hover {\n",
              "    background-color: var(--hover-bg-color);\n",
              "    box-shadow: 0 1px 2px rgba(60, 64, 67, 0.3), 0 1px 3px 1px rgba(60, 64, 67, 0.15);\n",
              "    fill: var(--button-hover-fill-color);\n",
              "  }\n",
              "\n",
              "  .colab-df-quickchart-complete:disabled,\n",
              "  .colab-df-quickchart-complete:disabled:hover {\n",
              "    background-color: var(--disabled-bg-color);\n",
              "    fill: var(--disabled-fill-color);\n",
              "    box-shadow: none;\n",
              "  }\n",
              "\n",
              "  .colab-df-spinner {\n",
              "    border: 2px solid var(--fill-color);\n",
              "    border-color: transparent;\n",
              "    border-bottom-color: var(--fill-color);\n",
              "    animation:\n",
              "      spin 1s steps(1) infinite;\n",
              "  }\n",
              "\n",
              "  @keyframes spin {\n",
              "    0% {\n",
              "      border-color: transparent;\n",
              "      border-bottom-color: var(--fill-color);\n",
              "      border-left-color: var(--fill-color);\n",
              "    }\n",
              "    20% {\n",
              "      border-color: transparent;\n",
              "      border-left-color: var(--fill-color);\n",
              "      border-top-color: var(--fill-color);\n",
              "    }\n",
              "    30% {\n",
              "      border-color: transparent;\n",
              "      border-left-color: var(--fill-color);\n",
              "      border-top-color: var(--fill-color);\n",
              "      border-right-color: var(--fill-color);\n",
              "    }\n",
              "    40% {\n",
              "      border-color: transparent;\n",
              "      border-right-color: var(--fill-color);\n",
              "      border-top-color: var(--fill-color);\n",
              "    }\n",
              "    60% {\n",
              "      border-color: transparent;\n",
              "      border-right-color: var(--fill-color);\n",
              "    }\n",
              "    80% {\n",
              "      border-color: transparent;\n",
              "      border-right-color: var(--fill-color);\n",
              "      border-bottom-color: var(--fill-color);\n",
              "    }\n",
              "    90% {\n",
              "      border-color: transparent;\n",
              "      border-bottom-color: var(--fill-color);\n",
              "    }\n",
              "  }\n",
              "</style>\n",
              "\n",
              "  <script>\n",
              "    async function quickchart(key) {\n",
              "      const quickchartButtonEl =\n",
              "        document.querySelector('#' + key + ' button');\n",
              "      quickchartButtonEl.disabled = true;  // To prevent multiple clicks.\n",
              "      quickchartButtonEl.classList.add('colab-df-spinner');\n",
              "      try {\n",
              "        const charts = await google.colab.kernel.invokeFunction(\n",
              "            'suggestCharts', [key], {});\n",
              "      } catch (error) {\n",
              "        console.error('Error during call to suggestCharts:', error);\n",
              "      }\n",
              "      quickchartButtonEl.classList.remove('colab-df-spinner');\n",
              "      quickchartButtonEl.classList.add('colab-df-quickchart-complete');\n",
              "    }\n",
              "    (() => {\n",
              "      let quickchartButtonEl =\n",
              "        document.querySelector('#df-c0309c8f-a5e3-477d-88aa-f53c8620403b button');\n",
              "      quickchartButtonEl.style.display =\n",
              "        google.colab.kernel.accessAllowed ? 'block' : 'none';\n",
              "    })();\n",
              "  </script>\n",
              "</div>\n",
              "    </div>\n",
              "  </div>\n"
            ]
          },
          "metadata": {},
          "execution_count": 21
        }
      ],
      "source": [
        "df_pred = pd.concat(\n",
        "    [pd.DataFrame(predictions), pd.DataFrame(x_test[:, 1:][win_length:])], axis=1\n",
        ")\n",
        "\n",
        "df_pred"
      ]
    },
    {
      "cell_type": "markdown",
      "metadata": {
        "id": "ipfgmfAcCAEo"
      },
      "source": [
        "**inverse_transform()** is used to scale back the data to the original representation."
      ]
    },
    {
      "cell_type": "code",
      "execution_count": 22,
      "metadata": {
        "colab": {
          "base_uri": "https://localhost:8080/"
        },
        "id": "Vv3i_xOcCAEp",
        "outputId": "63b71f18-8f50-44b3-8852-6f161d29fee0"
      },
      "outputs": [
        {
          "output_type": "stream",
          "name": "stdout",
          "text": [
            "[[ 791.02102715  804.599976    798.030029    801.5         801.5       ]\n",
            " [ 794.94914519  803.969971    796.030029    796.969971    796.969971  ]\n",
            " [ 800.09613623  799.5         794.          799.369995    799.369995  ]\n",
            " ...\n",
            " [1318.67365037 1535.329956   1498.         1513.640015   1513.640015  ]\n",
            " [1311.85440733 1518.689941   1486.310059   1518.         1518.        ]\n",
            " [1303.01181046 1523.439941   1498.420044   1515.550049   1515.550049  ]]\n"
          ]
        }
      ],
      "source": [
        "# To get the original values, the inverse_transform has to be performed.\n",
        "in_trans = scaler.inverse_transform(df_pred)\n",
        "\n",
        "print(in_trans)"
      ]
    },
    {
      "cell_type": "markdown",
      "metadata": {
        "id": "vHe1q4dMCAEp"
      },
      "source": [
        "Take only last 942 rows to compare the actual opening and the predicted opening price,\n",
        "since first 60 days are used to predict the upcoming day."
      ]
    },
    {
      "cell_type": "code",
      "execution_count": 23,
      "metadata": {
        "colab": {
          "base_uri": "https://localhost:8080/",
          "height": 419
        },
        "id": "HOplXbgVCAEp",
        "outputId": "81be7005-885e-44a3-9da6-e38d51309fc2"
      },
      "outputs": [
        {
          "output_type": "execute_result",
          "data": {
            "text/plain": [
              "             Open         High          Low        Close    Adj Close  \\\n",
              "3064   798.239990   804.599976   798.030029   801.500000   801.500000   \n",
              "3065   803.299988   803.969971   796.030029   796.969971   796.969971   \n",
              "3066   795.000000   799.500000   794.000000   799.369995   799.369995   \n",
              "3067   804.900024   815.179993   804.820007   813.109985   813.109985   \n",
              "3068   816.679993   816.679993   805.140015   807.669983   807.669983   \n",
              "...           ...          ...          ...          ...          ...   \n",
              "4001  1550.000000  1577.131958  1505.243042  1511.339966  1511.339966   \n",
              "4002  1490.310059  1522.949951  1483.500000  1520.579956  1520.579956   \n",
              "4003  1523.130005  1535.329956  1498.000000  1513.640015  1513.640015   \n",
              "4004  1500.000000  1518.689941  1486.310059  1518.000000  1518.000000   \n",
              "4005  1521.619995  1523.439941  1498.420044  1515.550049  1515.550049   \n",
              "\n",
              "      Predicted Open  \n",
              "3064      791.021027  \n",
              "3065      794.949145  \n",
              "3066      800.096136  \n",
              "3067      804.304955  \n",
              "3068      808.598154  \n",
              "...              ...  \n",
              "4001     1317.132140  \n",
              "4002     1321.247091  \n",
              "4003     1318.673650  \n",
              "4004     1311.854407  \n",
              "4005     1303.011810  \n",
              "\n",
              "[942 rows x 6 columns]"
            ],
            "text/html": [
              "\n",
              "  <div id=\"df-df6a513c-7c9e-4b4a-99e9-5e120c3edc6b\" class=\"colab-df-container\">\n",
              "    <div>\n",
              "<style scoped>\n",
              "    .dataframe tbody tr th:only-of-type {\n",
              "        vertical-align: middle;\n",
              "    }\n",
              "\n",
              "    .dataframe tbody tr th {\n",
              "        vertical-align: top;\n",
              "    }\n",
              "\n",
              "    .dataframe thead th {\n",
              "        text-align: right;\n",
              "    }\n",
              "</style>\n",
              "<table border=\"1\" class=\"dataframe\">\n",
              "  <thead>\n",
              "    <tr style=\"text-align: right;\">\n",
              "      <th></th>\n",
              "      <th>Open</th>\n",
              "      <th>High</th>\n",
              "      <th>Low</th>\n",
              "      <th>Close</th>\n",
              "      <th>Adj Close</th>\n",
              "      <th>Predicted Open</th>\n",
              "    </tr>\n",
              "  </thead>\n",
              "  <tbody>\n",
              "    <tr>\n",
              "      <th>3064</th>\n",
              "      <td>798.239990</td>\n",
              "      <td>804.599976</td>\n",
              "      <td>798.030029</td>\n",
              "      <td>801.500000</td>\n",
              "      <td>801.500000</td>\n",
              "      <td>791.021027</td>\n",
              "    </tr>\n",
              "    <tr>\n",
              "      <th>3065</th>\n",
              "      <td>803.299988</td>\n",
              "      <td>803.969971</td>\n",
              "      <td>796.030029</td>\n",
              "      <td>796.969971</td>\n",
              "      <td>796.969971</td>\n",
              "      <td>794.949145</td>\n",
              "    </tr>\n",
              "    <tr>\n",
              "      <th>3066</th>\n",
              "      <td>795.000000</td>\n",
              "      <td>799.500000</td>\n",
              "      <td>794.000000</td>\n",
              "      <td>799.369995</td>\n",
              "      <td>799.369995</td>\n",
              "      <td>800.096136</td>\n",
              "    </tr>\n",
              "    <tr>\n",
              "      <th>3067</th>\n",
              "      <td>804.900024</td>\n",
              "      <td>815.179993</td>\n",
              "      <td>804.820007</td>\n",
              "      <td>813.109985</td>\n",
              "      <td>813.109985</td>\n",
              "      <td>804.304955</td>\n",
              "    </tr>\n",
              "    <tr>\n",
              "      <th>3068</th>\n",
              "      <td>816.679993</td>\n",
              "      <td>816.679993</td>\n",
              "      <td>805.140015</td>\n",
              "      <td>807.669983</td>\n",
              "      <td>807.669983</td>\n",
              "      <td>808.598154</td>\n",
              "    </tr>\n",
              "    <tr>\n",
              "      <th>...</th>\n",
              "      <td>...</td>\n",
              "      <td>...</td>\n",
              "      <td>...</td>\n",
              "      <td>...</td>\n",
              "      <td>...</td>\n",
              "      <td>...</td>\n",
              "    </tr>\n",
              "    <tr>\n",
              "      <th>4001</th>\n",
              "      <td>1550.000000</td>\n",
              "      <td>1577.131958</td>\n",
              "      <td>1505.243042</td>\n",
              "      <td>1511.339966</td>\n",
              "      <td>1511.339966</td>\n",
              "      <td>1317.132140</td>\n",
              "    </tr>\n",
              "    <tr>\n",
              "      <th>4002</th>\n",
              "      <td>1490.310059</td>\n",
              "      <td>1522.949951</td>\n",
              "      <td>1483.500000</td>\n",
              "      <td>1520.579956</td>\n",
              "      <td>1520.579956</td>\n",
              "      <td>1321.247091</td>\n",
              "    </tr>\n",
              "    <tr>\n",
              "      <th>4003</th>\n",
              "      <td>1523.130005</td>\n",
              "      <td>1535.329956</td>\n",
              "      <td>1498.000000</td>\n",
              "      <td>1513.640015</td>\n",
              "      <td>1513.640015</td>\n",
              "      <td>1318.673650</td>\n",
              "    </tr>\n",
              "    <tr>\n",
              "      <th>4004</th>\n",
              "      <td>1500.000000</td>\n",
              "      <td>1518.689941</td>\n",
              "      <td>1486.310059</td>\n",
              "      <td>1518.000000</td>\n",
              "      <td>1518.000000</td>\n",
              "      <td>1311.854407</td>\n",
              "    </tr>\n",
              "    <tr>\n",
              "      <th>4005</th>\n",
              "      <td>1521.619995</td>\n",
              "      <td>1523.439941</td>\n",
              "      <td>1498.420044</td>\n",
              "      <td>1515.550049</td>\n",
              "      <td>1515.550049</td>\n",
              "      <td>1303.011810</td>\n",
              "    </tr>\n",
              "  </tbody>\n",
              "</table>\n",
              "<p>942 rows × 6 columns</p>\n",
              "</div>\n",
              "    <div class=\"colab-df-buttons\">\n",
              "\n",
              "  <div class=\"colab-df-container\">\n",
              "    <button class=\"colab-df-convert\" onclick=\"convertToInteractive('df-df6a513c-7c9e-4b4a-99e9-5e120c3edc6b')\"\n",
              "            title=\"Convert this dataframe to an interactive table.\"\n",
              "            style=\"display:none;\">\n",
              "\n",
              "  <svg xmlns=\"http://www.w3.org/2000/svg\" height=\"24px\" viewBox=\"0 -960 960 960\">\n",
              "    <path d=\"M120-120v-720h720v720H120Zm60-500h600v-160H180v160Zm220 220h160v-160H400v160Zm0 220h160v-160H400v160ZM180-400h160v-160H180v160Zm440 0h160v-160H620v160ZM180-180h160v-160H180v160Zm440 0h160v-160H620v160Z\"/>\n",
              "  </svg>\n",
              "    </button>\n",
              "\n",
              "  <style>\n",
              "    .colab-df-container {\n",
              "      display:flex;\n",
              "      gap: 12px;\n",
              "    }\n",
              "\n",
              "    .colab-df-convert {\n",
              "      background-color: #E8F0FE;\n",
              "      border: none;\n",
              "      border-radius: 50%;\n",
              "      cursor: pointer;\n",
              "      display: none;\n",
              "      fill: #1967D2;\n",
              "      height: 32px;\n",
              "      padding: 0 0 0 0;\n",
              "      width: 32px;\n",
              "    }\n",
              "\n",
              "    .colab-df-convert:hover {\n",
              "      background-color: #E2EBFA;\n",
              "      box-shadow: 0px 1px 2px rgba(60, 64, 67, 0.3), 0px 1px 3px 1px rgba(60, 64, 67, 0.15);\n",
              "      fill: #174EA6;\n",
              "    }\n",
              "\n",
              "    .colab-df-buttons div {\n",
              "      margin-bottom: 4px;\n",
              "    }\n",
              "\n",
              "    [theme=dark] .colab-df-convert {\n",
              "      background-color: #3B4455;\n",
              "      fill: #D2E3FC;\n",
              "    }\n",
              "\n",
              "    [theme=dark] .colab-df-convert:hover {\n",
              "      background-color: #434B5C;\n",
              "      box-shadow: 0px 1px 3px 1px rgba(0, 0, 0, 0.15);\n",
              "      filter: drop-shadow(0px 1px 2px rgba(0, 0, 0, 0.3));\n",
              "      fill: #FFFFFF;\n",
              "    }\n",
              "  </style>\n",
              "\n",
              "    <script>\n",
              "      const buttonEl =\n",
              "        document.querySelector('#df-df6a513c-7c9e-4b4a-99e9-5e120c3edc6b button.colab-df-convert');\n",
              "      buttonEl.style.display =\n",
              "        google.colab.kernel.accessAllowed ? 'block' : 'none';\n",
              "\n",
              "      async function convertToInteractive(key) {\n",
              "        const element = document.querySelector('#df-df6a513c-7c9e-4b4a-99e9-5e120c3edc6b');\n",
              "        const dataTable =\n",
              "          await google.colab.kernel.invokeFunction('convertToInteractive',\n",
              "                                                    [key], {});\n",
              "        if (!dataTable) return;\n",
              "\n",
              "        const docLinkHtml = 'Like what you see? Visit the ' +\n",
              "          '<a target=\"_blank\" href=https://colab.research.google.com/notebooks/data_table.ipynb>data table notebook</a>'\n",
              "          + ' to learn more about interactive tables.';\n",
              "        element.innerHTML = '';\n",
              "        dataTable['output_type'] = 'display_data';\n",
              "        await google.colab.output.renderOutput(dataTable, element);\n",
              "        const docLink = document.createElement('div');\n",
              "        docLink.innerHTML = docLinkHtml;\n",
              "        element.appendChild(docLink);\n",
              "      }\n",
              "    </script>\n",
              "  </div>\n",
              "\n",
              "\n",
              "<div id=\"df-e31476c7-66cb-46fb-bafc-c235e9e37be4\">\n",
              "  <button class=\"colab-df-quickchart\" onclick=\"quickchart('df-e31476c7-66cb-46fb-bafc-c235e9e37be4')\"\n",
              "            title=\"Suggest charts\"\n",
              "            style=\"display:none;\">\n",
              "\n",
              "<svg xmlns=\"http://www.w3.org/2000/svg\" height=\"24px\"viewBox=\"0 0 24 24\"\n",
              "     width=\"24px\">\n",
              "    <g>\n",
              "        <path d=\"M19 3H5c-1.1 0-2 .9-2 2v14c0 1.1.9 2 2 2h14c1.1 0 2-.9 2-2V5c0-1.1-.9-2-2-2zM9 17H7v-7h2v7zm4 0h-2V7h2v10zm4 0h-2v-4h2v4z\"/>\n",
              "    </g>\n",
              "</svg>\n",
              "  </button>\n",
              "\n",
              "<style>\n",
              "  .colab-df-quickchart {\n",
              "      --bg-color: #E8F0FE;\n",
              "      --fill-color: #1967D2;\n",
              "      --hover-bg-color: #E2EBFA;\n",
              "      --hover-fill-color: #174EA6;\n",
              "      --disabled-fill-color: #AAA;\n",
              "      --disabled-bg-color: #DDD;\n",
              "  }\n",
              "\n",
              "  [theme=dark] .colab-df-quickchart {\n",
              "      --bg-color: #3B4455;\n",
              "      --fill-color: #D2E3FC;\n",
              "      --hover-bg-color: #434B5C;\n",
              "      --hover-fill-color: #FFFFFF;\n",
              "      --disabled-bg-color: #3B4455;\n",
              "      --disabled-fill-color: #666;\n",
              "  }\n",
              "\n",
              "  .colab-df-quickchart {\n",
              "    background-color: var(--bg-color);\n",
              "    border: none;\n",
              "    border-radius: 50%;\n",
              "    cursor: pointer;\n",
              "    display: none;\n",
              "    fill: var(--fill-color);\n",
              "    height: 32px;\n",
              "    padding: 0;\n",
              "    width: 32px;\n",
              "  }\n",
              "\n",
              "  .colab-df-quickchart:hover {\n",
              "    background-color: var(--hover-bg-color);\n",
              "    box-shadow: 0 1px 2px rgba(60, 64, 67, 0.3), 0 1px 3px 1px rgba(60, 64, 67, 0.15);\n",
              "    fill: var(--button-hover-fill-color);\n",
              "  }\n",
              "\n",
              "  .colab-df-quickchart-complete:disabled,\n",
              "  .colab-df-quickchart-complete:disabled:hover {\n",
              "    background-color: var(--disabled-bg-color);\n",
              "    fill: var(--disabled-fill-color);\n",
              "    box-shadow: none;\n",
              "  }\n",
              "\n",
              "  .colab-df-spinner {\n",
              "    border: 2px solid var(--fill-color);\n",
              "    border-color: transparent;\n",
              "    border-bottom-color: var(--fill-color);\n",
              "    animation:\n",
              "      spin 1s steps(1) infinite;\n",
              "  }\n",
              "\n",
              "  @keyframes spin {\n",
              "    0% {\n",
              "      border-color: transparent;\n",
              "      border-bottom-color: var(--fill-color);\n",
              "      border-left-color: var(--fill-color);\n",
              "    }\n",
              "    20% {\n",
              "      border-color: transparent;\n",
              "      border-left-color: var(--fill-color);\n",
              "      border-top-color: var(--fill-color);\n",
              "    }\n",
              "    30% {\n",
              "      border-color: transparent;\n",
              "      border-left-color: var(--fill-color);\n",
              "      border-top-color: var(--fill-color);\n",
              "      border-right-color: var(--fill-color);\n",
              "    }\n",
              "    40% {\n",
              "      border-color: transparent;\n",
              "      border-right-color: var(--fill-color);\n",
              "      border-top-color: var(--fill-color);\n",
              "    }\n",
              "    60% {\n",
              "      border-color: transparent;\n",
              "      border-right-color: var(--fill-color);\n",
              "    }\n",
              "    80% {\n",
              "      border-color: transparent;\n",
              "      border-right-color: var(--fill-color);\n",
              "      border-bottom-color: var(--fill-color);\n",
              "    }\n",
              "    90% {\n",
              "      border-color: transparent;\n",
              "      border-bottom-color: var(--fill-color);\n",
              "    }\n",
              "  }\n",
              "</style>\n",
              "\n",
              "  <script>\n",
              "    async function quickchart(key) {\n",
              "      const quickchartButtonEl =\n",
              "        document.querySelector('#' + key + ' button');\n",
              "      quickchartButtonEl.disabled = true;  // To prevent multiple clicks.\n",
              "      quickchartButtonEl.classList.add('colab-df-spinner');\n",
              "      try {\n",
              "        const charts = await google.colab.kernel.invokeFunction(\n",
              "            'suggestCharts', [key], {});\n",
              "      } catch (error) {\n",
              "        console.error('Error during call to suggestCharts:', error);\n",
              "      }\n",
              "      quickchartButtonEl.classList.remove('colab-df-spinner');\n",
              "      quickchartButtonEl.classList.add('colab-df-quickchart-complete');\n",
              "    }\n",
              "    (() => {\n",
              "      let quickchartButtonEl =\n",
              "        document.querySelector('#df-e31476c7-66cb-46fb-bafc-c235e9e37be4 button');\n",
              "      quickchartButtonEl.style.display =\n",
              "        google.colab.kernel.accessAllowed ? 'block' : 'none';\n",
              "    })();\n",
              "  </script>\n",
              "</div>\n",
              "    </div>\n",
              "  </div>\n"
            ]
          },
          "metadata": {},
          "execution_count": 23
        }
      ],
      "source": [
        "df_final = df_input[predictions.shape[0] * -1 :]\n",
        "\n",
        "# Add the Predicted Open price into the final dataframe\n",
        "predicted_open = in_trans[:, 0].tolist()\n",
        "df_final.insert(5, \"Predicted Open\", predicted_open)\n",
        "\n",
        "df_final"
      ]
    },
    {
      "cell_type": "markdown",
      "metadata": {
        "id": "aSqRDEiECAEp"
      },
      "source": [
        "## Visualize the Predictions"
      ]
    },
    {
      "cell_type": "code",
      "execution_count": 24,
      "metadata": {
        "colab": {
          "base_uri": "https://localhost:8080/",
          "height": 693
        },
        "id": "7umdbWYkCAEp",
        "outputId": "b017a5d1-baae-4318-ba76-8e1eda016d13"
      },
      "outputs": [
        {
          "output_type": "execute_result",
          "data": {
            "text/plain": [
              "<Axes: >"
            ]
          },
          "metadata": {},
          "execution_count": 24
        },
        {
          "output_type": "display_data",
          "data": {
            "text/plain": [
              "<Figure size 1000x800 with 1 Axes>"
            ],
            "image/png": "[encoded data removed]"
          },
          "metadata": {}
        }
      ],
      "source": [
        "df_final[[\"Open\", \"Predicted Open\"]].plot()"
      ]
    }
  ],
  "metadata": {
    "colab": {
      "provenance": []
    },
    "kernelspec": {
      "display_name": "Python 3",
      "language": "python",
      "name": "python3"
    },
    "language_info": {
      "codemirror_mode": {
        "name": "ipython",
        "version": 3
      },
      "file_extension": ".py",
      "mimetype": "text/x-python",
      "name": "python",
      "nbconvert_exporter": "python",
      "pygments_lexer": "ipython3",
      "version": "3.10.7"
    }
  },
  "nbformat": 4,
  "nbformat_minor": 0
}